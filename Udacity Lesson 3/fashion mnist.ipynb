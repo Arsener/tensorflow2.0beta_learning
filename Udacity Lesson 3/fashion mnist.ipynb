{
 "cells": [
  {
   "cell_type": "markdown",
   "metadata": {},
   "source": [
    "## 使用Fashion Minst数据集进行服装分类\n",
    "在此次样例中，将建立神经网络对服装图片进行分类。一共十类，分别为：\n",
    "> class_names = ['T-shirt/top', 'Trouser', 'Pullover', 'Dress', 'Coat', 'Sandal', 'Shirt', 'Sneaker', 'Bag', 'Ankle boot']\n",
    "\n",
    "### 输入\n",
    "28 * 28黑白图片\n",
    "### 输出\n",
    "数字0-9表示类别"
   ]
  },
  {
   "cell_type": "code",
   "execution_count": 1,
   "metadata": {},
   "outputs": [
    {
     "name": "stdout",
     "output_type": "stream",
     "text": [
      "2.0.0-beta0\n"
     ]
    }
   ],
   "source": [
    "from __future__ import absolute_import, division, print_function, unicode_literals\n",
    "\n",
    "\n",
    "# Import TensorFlow and TensorFlow Datasets\n",
    "import tensorflow as tf\n",
    "\n",
    "# Helper libraries\n",
    "import math\n",
    "import gzip\n",
    "import numpy as np\n",
    "import matplotlib.pyplot as plt\n",
    "\n",
    "\n",
    "print(tf.__version__)"
   ]
  },
  {
   "cell_type": "markdown",
   "metadata": {},
   "source": [
    "## 加载数据\n",
    "由于使用tensorflow_datasets加载Fashion Mnist数据集时，会因为网络原因导致无法加载，因此将数据下载到本地。\n",
    "\n",
    "数据下载地址：<a href='https://github.com/zalandoresearch/fashion-mnist/tree/master/data/fashion'>https://github.com/zalandoresearch/fashion-mnist/tree/master/data/fashion</a>\n",
    "\n",
    "使用gzip进行文件读取操作"
   ]
  },
  {
   "cell_type": "code",
   "execution_count": 2,
   "metadata": {},
   "outputs": [],
   "source": [
    "def load_data():\n",
    "    base = \"./fashion mnist data/\"\n",
    "    files = [\n",
    "        'train-labels-idx1-ubyte.gz', 'train-images-idx3-ubyte.gz',\n",
    "        't10k-labels-idx1-ubyte.gz', 't10k-images-idx3-ubyte.gz'\n",
    "    ]\n",
    "\n",
    "\n",
    "    with gzip.open(base + files[0], 'rb') as lbpath:\n",
    "        y_train = np.frombuffer(lbpath.read(), np.uint8, offset=8)\n",
    "\n",
    "    with gzip.open(base + files[1], 'rb') as imgpath:\n",
    "        x_train = np.frombuffer(\n",
    "            imgpath.read(), np.uint8, offset=16).reshape(len(y_train), 28, 28)\n",
    "\n",
    "    with gzip.open(base + files[2], 'rb') as lbpath:\n",
    "        y_test = np.frombuffer(lbpath.read(), np.uint8, offset=8)\n",
    "\n",
    "    with gzip.open(base + files[3], 'rb') as imgpath:\n",
    "        x_test = np.frombuffer(\n",
    "            imgpath.read(), np.uint8, offset=16).reshape(len(y_test), 28, 28)\n",
    "\n",
    "    return (x_train, y_train), (x_test, y_test)"
   ]
  },
  {
   "cell_type": "code",
   "execution_count": 3,
   "metadata": {},
   "outputs": [
    {
     "name": "stdout",
     "output_type": "stream",
     "text": [
      "60000 10000\n"
     ]
    },
    {
     "data": {
      "image/png": "[encoded data removed]",
      "text/plain": [
       "<Figure size 432x288 with 2 Axes>"
      ]
     },
     "metadata": {
      "needs_background": "light"
     },
     "output_type": "display_data"
    },
    {
     "name": "stdout",
     "output_type": "stream",
     "text": [
      "T-shirt/top\n"
     ]
    }
   ],
   "source": [
    "# 读取数据\n",
    "(train_images, train_labels), (test_images, test_labels) = load_data()\n",
    "\n",
    "# 定义不同类别的名称\n",
    "class_names = ['T-shirt/top', 'Trouser', 'Pullover', 'Dress', 'Coat',\n",
    "               'Sandal', 'Shirt', 'Sneaker', 'Bag', 'Ankle boot']\n",
    "\n",
    "# 获取训练集以及测试集中样本的数量\n",
    "TRAINING_SAMPLE_NUM = train_images.shape[0]\n",
    "TEST_SAMPLE_NUM = test_images.shape[0]\n",
    "print(TRAINING_SAMPLE_NUM, TEST_SAMPLE_NUM)\n",
    "\n",
    "# 取出一张图片进行展示\n",
    "plt.figure()\n",
    "plt.imshow(train_images[1], cmap=plt.cm.binary)\n",
    "plt.colorbar()\n",
    "plt.grid(False)\n",
    "plt.show()\n",
    "print(class_names[train_labels[1]])"
   ]
  },
  {
   "cell_type": "markdown",
   "metadata": {},
   "source": [
    "将数据变为``tf.data.Dataset``的形式"
   ]
  },
  {
   "cell_type": "code",
   "execution_count": 4,
   "metadata": {},
   "outputs": [],
   "source": [
    "train_dataset = tf.data.Dataset.from_tensor_slices((train_images, train_labels))\n",
    "test_dataset = tf.data.Dataset.from_tensor_slices((test_images, test_labels))"
   ]
  },
  {
   "cell_type": "markdown",
   "metadata": {},
   "source": [
    "将图片数据的像素值从0-255变为0-1的浮点数"
   ]
  },
  {
   "cell_type": "code",
   "execution_count": 5,
   "metadata": {},
   "outputs": [],
   "source": [
    "def normalize(images, labels):\n",
    "    images = tf.cast(images, tf.float32)\n",
    "    images /= 255\n",
    "    return images, labels\n",
    "\n",
    "train_dataset = train_dataset.map(normalize)\n",
    "test_dataset = test_dataset.map(normalize)"
   ]
  },
  {
   "cell_type": "markdown",
   "metadata": {},
   "source": [
    "## 构建模型\n",
    "* **input layer** `tf.keras.layers.Flatten` — This layer transforms the images from a 2d-array of 28 $\\times$ 28 pixels, to a 1d-array of 784 pixels (28\\*28). Think of this layer as unstacking rows of pixels in the image and lining them up. This layer has no parameters to learn, as it only reformats the data.\n",
    "* **hidden layer** `tf.keras.layers.Dense`— A densely connected layer of 128 neurons. Each neuron (or node) takes input from all 784 nodes in the previous layer, weighting that input according to hidden parameters which will be learned during training, and outputs a single value to the next layer.\n",
    "* **output layer** `tf.keras.layers.Dense` — A 10-node *softmax* layer, with each node representing a class of clothing. As in the previous layer, each node takes input from the 128 nodes in the layer before it. Each node weights the input according to learned parameters, and then outputs a value in the range `[0, 1]`, representing the probability that the image belongs to that class. The sum of all 10 node values is 1."
   ]
  },
  {
   "cell_type": "code",
   "execution_count": 8,
   "metadata": {},
   "outputs": [],
   "source": [
    "model = tf.keras.Sequential([\n",
    "    tf.keras.layers.Flatten(input_shape=(28, 28)),\n",
    "    tf.keras.layers.Dense(units=128, activation='relu'),\n",
    "    tf.keras.layers.Dense(units=10, activation='softmax')\n",
    "])"
   ]
  },
  {
   "cell_type": "markdown",
   "metadata": {},
   "source": [
    "## 编译模型\n",
    "* ``loss``这里使用了``tf.keras.losses.sparse_categorical_crossentropy``作为损失函数。``tf.keras.losses.sparse_categorical_crossentropy``与``tf.keras.losses.categorical_crossentropy``的区别为：\n",
    "    * ``tf.keras.losses.categorical_crossentropy``的``y_true``为``one-hot``编码形式。TensorFlow官方文档中对``tf.keras.losses.CategoricalCrossentropy``类的描述为\n",
    "    > Use this crossentropy loss function when there are two or more label classes. We expect labels to be provided in a ``one_hot`` representation. If you want to provide labels as integers, please use ``SparseCategoricalCrossentropy`` loss. There should be ``# classes`` floating point values per feature.\n",
    "    * ``tf.keras.losses.sparse_categorical_crossentropy``的``y_true``为数字形式。TensorFlow官方文档中对``tf.keras.losses.SparseCategoricalCrossentropy``类的描述为\n",
    "    > Use this crossentropy loss function when there are two or more label classes. We expect labels to be provided as integers. If you want to provide labels using ``one-hot`` representation, please use ``CategoricalCrossentropy`` loss. There should be ``# classes`` floating point values per feature for ``y_pred`` and a single floating point value per feature for ``y_true``.\n",
    "* ``optimizer``这里依然选择使用效果最好的``Adam``优化方法\n",
    "* ``metrics``这里传入的参数为``[accuracy]``，会自动选择合适的方法进行效果评估。适合此样例的评估方法为``tf.keras.metrics.sparse_categorical_accuracy``。``tf.keras.metrics.Accuracy()``、``tf.keras.metrics.categorical_accuracy``、``tf.keras.metrics.sparse_categorical_accuracy``三者的区别为：\n",
    "    * ``tf.keras.metrics.Accuracy()``的``y_true``和``y_pred``均是数字，如：``y_true`` is [1, 2, 3, 4] and ``y_pred`` is [0, 2, 3, 4]\n",
    "    * ``tf.keras.metrics.categorical_accuracy``的``y_true``是``one-hot``，而``y_pred``是维度与类别数相同的一维数组，如：``y_true`` is [[0, 0, 1], [0, 1, 0]] and ``y_pred`` is [[0.1, 0.9, 0.8], [0.05, 0.95, 0]]\n",
    "    * ``tf.keras.metrics.sparse_categorical_accuracy``的``y_true``是数字，而``y_pred``是维度与类别数相同的一维数组，如：``y_true`` is [[2], [1]] and ``y_pred`` is [[0.1, 0.9, 0.8], [0.05, 0.95, 0]]"
   ]
  },
  {
   "cell_type": "code",
   "execution_count": 9,
   "metadata": {},
   "outputs": [
    {
     "data": {
      "text/plain": [
       "'\\ntf.keras.metrics.Accuracy()\\ntf.keras.metrics.categorical_accuracy\\ntf.keras.metrics.sparse_categorical_accuracy\\n'"
      ]
     },
     "execution_count": 9,
     "metadata": {},
     "output_type": "execute_result"
    }
   ],
   "source": [
    "model.compile(loss=tf.keras.losses.sparse_categorical_crossentropy,\n",
    "             optimizer=tf.keras.optimizers.Adam(0.01),\n",
    "             metrics=['accuracy'])\n",
    "\n",
    "'''\n",
    "tf.keras.metrics.Accuracy()\n",
    "tf.keras.metrics.categorical_accuracy\n",
    "tf.keras.metrics.sparse_categorical_accuracy\n",
    "'''"
   ]
  },
  {
   "cell_type": "markdown",
   "metadata": {},
   "source": [
    "## 训练模型"
   ]
  },
  {
   "cell_type": "code",
   "execution_count": 10,
   "metadata": {},
   "outputs": [],
   "source": [
    "BATCH_SIZE = 32\n",
    "train_dataset = train_dataset.repeat().shuffle(TRAINING_SAMPLE_NUM).batch(BATCH_SIZE)\n",
    "test_dataset = test_dataset.batch(BATCH_SIZE)"
   ]
  },
  {
   "cell_type": "code",
   "execution_count": 11,
   "metadata": {},
   "outputs": [
    {
     "name": "stdout",
     "output_type": "stream",
     "text": [
      "Epoch 1/5\n"
     ]
    },
    {
     "name": "stderr",
     "output_type": "stream",
     "text": [
      "WARNING: Logging before flag parsing goes to stderr.\n",
      "W0723 15:35:24.799915  5528 deprecation.py:323] From C:\\Users\\arsener\\PycharmProjects\\tensorflow2.0beta\\venv\\lib\\site-packages\\tensorflow\\python\\ops\\math_grad.py:1250: add_dispatch_support.<locals>.wrapper (from tensorflow.python.ops.array_ops) is deprecated and will be removed in a future version.\n",
      "Instructions for updating:\n",
      "Use tf.where in 2.0, which has the same broadcast rule as np.where\n"
     ]
    },
    {
     "name": "stdout",
     "output_type": "stream",
     "text": [
      "1875/1875 [==============================] - 14s 8ms/step - loss: 0.5163 - accuracy: 0.8176\n",
      "Epoch 2/5\n",
      "1875/1875 [==============================] - 10s 5ms/step - loss: 0.4430 - accuracy: 0.8396\n",
      "Epoch 3/5\n",
      "1875/1875 [==============================] - 10s 5ms/step - loss: 0.4109 - accuracy: 0.8509\n",
      "Epoch 4/5\n",
      "1875/1875 [==============================] - 10s 5ms/step - loss: 0.4040 - accuracy: 0.8550\n",
      "Epoch 5/5\n",
      "1875/1875 [==============================] - 10s 5ms/step - loss: 0.3899 - accuracy: 0.8592\n"
     ]
    },
    {
     "data": {
      "text/plain": [
       "<tensorflow.python.keras.callbacks.History at 0x27f3d816278>"
      ]
     },
     "execution_count": 11,
     "metadata": {},
     "output_type": "execute_result"
    }
   ],
   "source": [
    "model.fit(train_dataset, epochs=5, steps_per_epoch=math.ceil(TRAINING_SAMPLE_NUM / BATCH_SIZE), verbose=1)"
   ]
  },
  {
   "cell_type": "markdown",
   "metadata": {},
   "source": [
    "## 评估模型"
   ]
  },
  {
   "cell_type": "code",
   "execution_count": 12,
   "metadata": {},
   "outputs": [
    {
     "name": "stdout",
     "output_type": "stream",
     "text": [
      "313/313 [==============================] - 1s 4ms/step - loss: 0.4647 - accuracy: 0.8405\n",
      "Loss and accuracy on test dataset: 0.4647, 0.8405\n"
     ]
    }
   ],
   "source": [
    "test_loss, test_accuracy = model.evaluate(test_dataset, steps=math.ceil(TEST_SAMPLE_NUM / BATCH_SIZE))\n",
    "print('Loss and accuracy on test dataset: {0:.4f}, {1:.4f}'.format(test_loss, test_accuracy))"
   ]
  },
  {
   "cell_type": "code",
   "execution_count": null,
   "metadata": {},
   "outputs": [],
   "source": []
  }
 ],
 "metadata": {
  "kernelspec": {
   "display_name": "tensorflow2.0beta",
   "language": "python",
   "name": "tensorflow2.0beta"
  },
  "language_info": {
   "codemirror_mode": {
    "name": "ipython",
    "version": 3
   },
   "file_extension": ".py",
   "mimetype": "text/x-python",
   "name": "python",
   "nbconvert_exporter": "python",
   "pygments_lexer": "ipython3",
   "version": "3.6.2"
  }
 },
 "nbformat": 4,
 "nbformat_minor": 2
}
