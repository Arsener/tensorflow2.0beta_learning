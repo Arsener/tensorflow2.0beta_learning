{
 "cells": [
  {
   "cell_type": "code",
   "execution_count": 1,
   "metadata": {},
   "outputs": [],
   "source": [
    "import tensorflow as tf\n",
    "import numpy as np\n",
    "import matplotlib as plt"
   ]
  },
  {
   "cell_type": "code",
   "execution_count": 2,
   "metadata": {},
   "outputs": [
    {
     "data": {
      "text/plain": [
       "((25000,), (25000,), (25000,), (25000,))"
      ]
     },
     "execution_count": 2,
     "metadata": {},
     "output_type": "execute_result"
    }
   ],
   "source": [
    "PATH = 'C:\\\\Users\\\\arsener\\\\PycharmProjects\\\\tensorflow2.0beta\\\\zhihu\\\\data\\\\'\n",
    "\n",
    "(train_x, train_y), (test_x, test_y) = tf.keras.datasets.imdb.load_data(path=PATH + 'imdb.npz', num_words=10000)\n",
    "train_x.shape, train_y.shape, test_x.shape, test_y.shape"
   ]
  },
  {
   "cell_type": "code",
   "execution_count": 3,
   "metadata": {},
   "outputs": [],
   "source": [
    "word_index = tf.keras.datasets.imdb.get_word_index(path=PATH + 'imdb_word_index.json')"
   ]
  },
  {
   "cell_type": "code",
   "execution_count": 4,
   "metadata": {},
   "outputs": [
    {
     "name": "stdout",
     "output_type": "stream",
     "text": [
      "<START> this film was just brilliant casting location scenery story direction everyone's really suited the part they played and you could just imagine being there robert <UNK> is an amazing actor and now the same being director <UNK> father came from the same scottish island as myself so i loved the fact there was a real connection with this film the witty remarks throughout the film were great it was just brilliant so much that i bought the film as soon as it was released for <UNK> and would recommend it to everyone to watch and the fly fishing was amazing really cried at the end it was so sad and you know what they say if you cry at a film it must have been good and this definitely was also <UNK> to the two little boy's that played the <UNK> of norman and paul they were just brilliant children are often left out of the <UNK> list i think because the stars that play them all grown up are such a big profile for the whole film but these children are amazing and should be praised for what they have done don't you think the whole story was so lovely because it was true and was someone's life after all that was shared with us all\n"
     ]
    }
   ],
   "source": [
    "word2id = {k:(v+3) for k, v in word_index.items()}\n",
    "word2id['<PAD>'] = 0\n",
    "word2id['<START>'] = 1\n",
    "word2id['<UNK>'] = 2\n",
    "word2id['<UNUSED>'] = 3\n",
    "\n",
    "id2word = {v:k for k, v in word2id.items()}\n",
    "def get_words(sent_ids):\n",
    "    return ' '.join([id2word.get(i, '?') for i in sent_ids])\n",
    "\n",
    "sent = get_words(train_x[0])\n",
    "print(sent)"
   ]
  },
  {
   "cell_type": "code",
   "execution_count": 5,
   "metadata": {},
   "outputs": [
    {
     "name": "stdout",
     "output_type": "stream",
     "text": [
      "[   1   14   22   16   43  530  973 1622 1385   65  458 4468   66 3941\n",
      "    4  173   36  256    5   25  100   43  838  112   50  670    2    9\n",
      "   35  480  284    5  150    4  172  112  167    2  336  385   39    4\n",
      "  172 4536 1111   17  546   38   13  447    4  192   50   16    6  147\n",
      " 2025   19   14   22    4 1920 4613  469    4   22   71   87   12   16\n",
      "   43  530   38   76   15   13 1247    4   22   17  515   17   12   16\n",
      "  626   18    2    5   62  386   12    8  316    8  106    5    4 2223\n",
      " 5244   16  480   66 3785   33    4  130   12   16   38  619    5   25\n",
      "  124   51   36  135   48   25 1415   33    6   22   12  215   28   77\n",
      "   52    5   14  407   16   82    2    8    4  107  117 5952   15  256\n",
      "    4    2    7 3766    5  723   36   71   43  530  476   26  400  317\n",
      "   46    7    4    2 1029   13  104   88    4  381   15  297   98   32\n",
      " 2071   56   26  141    6  194 7486   18    4  226   22   21  134  476\n",
      "   26  480    5  144   30 5535   18   51   36   28  224   92   25  104\n",
      "    4  226   65   16   38 1334   88   12   16  283    5   16 4472  113\n",
      "  103   32   15   16 5345   19  178   32    0    0    0    0    0    0\n",
      "    0    0    0    0    0    0    0    0    0    0    0    0    0    0\n",
      "    0    0    0    0    0    0    0    0    0    0    0    0    0    0\n",
      "    0    0    0    0]\n",
      "len:  256 256\n"
     ]
    }
   ],
   "source": [
    "# 句子末尾padding\n",
    "LENGTH = 256\n",
    "\n",
    "train_x = tf.keras.preprocessing.sequence.pad_sequences(\n",
    "    train_x, value=word2id['<PAD>'],\n",
    "    padding='post', maxlen=LENGTH\n",
    ")\n",
    "test_x = tf.keras.preprocessing.sequence.pad_sequences(\n",
    "    test_x, value=word2id['<PAD>'],\n",
    "    padding='post', maxlen=LENGTH\n",
    ")\n",
    "print(train_x[0])\n",
    "print('len: ',len(train_x[0]), len(train_x[1]))"
   ]
  },
  {
   "cell_type": "code",
   "execution_count": 8,
   "metadata": {},
   "outputs": [
    {
     "name": "stdout",
     "output_type": "stream",
     "text": [
      "Model: \"sequential\"\n",
      "_________________________________________________________________\n",
      "Layer (type)                 Output Shape              Param #   \n",
      "=================================================================\n",
      "embedding (Embedding)        (None, None, 16)          160000    \n",
      "_________________________________________________________________\n",
      "global_average_pooling1d (Gl (None, 16)                0         \n",
      "_________________________________________________________________\n",
      "dense (Dense)                (None, 16)                272       \n",
      "_________________________________________________________________\n",
      "dense_1 (Dense)              (None, 1)                 17        \n",
      "=================================================================\n",
      "Total params: 160,289\n",
      "Trainable params: 160,289\n",
      "Non-trainable params: 0\n",
      "_________________________________________________________________\n"
     ]
    }
   ],
   "source": [
    "import tensorflow.keras.layers as layers\n",
    "vocab_size = 10000\n",
    "model = tf.keras.Sequential()\n",
    "model.add(layers.Embedding(vocab_size, 16))\n",
    "model.add(layers.GlobalAveragePooling1D())\n",
    "model.add(layers.Dense(16, activation='relu'))\n",
    "model.add(layers.Dense(1, activation='sigmoid'))\n",
    "model.summary()\n",
    "model.compile(optimizer='adam',\n",
    "             loss='binary_crossentropy',\n",
    "             metrics=['accuracy'])"
   ]
  },
  {
   "cell_type": "code",
   "execution_count": 9,
   "metadata": {},
   "outputs": [
    {
     "name": "stderr",
     "output_type": "stream",
     "text": [
      "WARNING: Logging before flag parsing goes to stderr.\n",
      "W0728 21:57:26.052427 16660 deprecation.py:323] From C:\\Users\\arsener\\PycharmProjects\\tensorflow2.0beta\\venv\\lib\\site-packages\\tensorflow\\python\\ops\\math_grad.py:1250: add_dispatch_support.<locals>.wrapper (from tensorflow.python.ops.array_ops) is deprecated and will be removed in a future version.\n",
      "Instructions for updating:\n",
      "Use tf.where in 2.0, which has the same broadcast rule as np.where\n"
     ]
    },
    {
     "name": "stdout",
     "output_type": "stream",
     "text": [
      "Train on 15000 samples, validate on 10000 samples\n",
      "Epoch 1/40\n",
      "15000/15000 [==============================] - 2s 114us/sample - loss: 0.6920 - accuracy: 0.5768 - val_loss: 0.6902 - val_accuracy: 0.6143\n",
      "Epoch 2/40\n",
      "15000/15000 [==============================] - 1s 91us/sample - loss: 0.6865 - accuracy: 0.7105 - val_loss: 0.6823 - val_accuracy: 0.7461\n",
      "Epoch 3/40\n",
      "15000/15000 [==============================] - 1s 92us/sample - loss: 0.6738 - accuracy: 0.7605 - val_loss: 0.6657 - val_accuracy: 0.7569\n",
      "Epoch 4/40\n",
      "15000/15000 [==============================] - 1s 89us/sample - loss: 0.6504 - accuracy: 0.7658 - val_loss: 0.6385 - val_accuracy: 0.7551\n",
      "Epoch 5/40\n",
      "15000/15000 [==============================] - 1s 90us/sample - loss: 0.6150 - accuracy: 0.7935 - val_loss: 0.6010 - val_accuracy: 0.7861\n",
      "Epoch 6/40\n",
      "15000/15000 [==============================] - 1s 89us/sample - loss: 0.5694 - accuracy: 0.8137 - val_loss: 0.5569 - val_accuracy: 0.8056\n",
      "Epoch 7/40\n",
      "15000/15000 [==============================] - 1s 93us/sample - loss: 0.5185 - accuracy: 0.8304 - val_loss: 0.5095 - val_accuracy: 0.8217\n",
      "Epoch 8/40\n",
      "15000/15000 [==============================] - 2s 105us/sample - loss: 0.4683 - accuracy: 0.8498 - val_loss: 0.4665 - val_accuracy: 0.8371\n",
      "Epoch 9/40\n",
      "15000/15000 [==============================] - 1s 94us/sample - loss: 0.4226 - accuracy: 0.8639 - val_loss: 0.4290 - val_accuracy: 0.8464\n",
      "Epoch 10/40\n",
      "15000/15000 [==============================] - 1s 95us/sample - loss: 0.3832 - accuracy: 0.8761 - val_loss: 0.3989 - val_accuracy: 0.8538\n",
      "Epoch 11/40\n",
      "15000/15000 [==============================] - 1s 90us/sample - loss: 0.3505 - accuracy: 0.8849 - val_loss: 0.3746 - val_accuracy: 0.8617\n",
      "Epoch 12/40\n",
      "15000/15000 [==============================] - 1s 90us/sample - loss: 0.3234 - accuracy: 0.8920 - val_loss: 0.3562 - val_accuracy: 0.8658\n",
      "Epoch 13/40\n",
      "15000/15000 [==============================] - 1s 91us/sample - loss: 0.3014 - accuracy: 0.8993 - val_loss: 0.3404 - val_accuracy: 0.8705\n",
      "Epoch 14/40\n",
      "15000/15000 [==============================] - 1s 91us/sample - loss: 0.2817 - accuracy: 0.9043 - val_loss: 0.3289 - val_accuracy: 0.8735\n",
      "Epoch 15/40\n",
      "15000/15000 [==============================] - 1s 94us/sample - loss: 0.2652 - accuracy: 0.9086 - val_loss: 0.3196 - val_accuracy: 0.8750\n",
      "Epoch 16/40\n",
      "15000/15000 [==============================] - 2s 104us/sample - loss: 0.2504 - accuracy: 0.9137 - val_loss: 0.3118 - val_accuracy: 0.8763\n",
      "Epoch 17/40\n",
      "15000/15000 [==============================] - 1s 97us/sample - loss: 0.2367 - accuracy: 0.9174 - val_loss: 0.3054 - val_accuracy: 0.8792\n",
      "Epoch 18/40\n",
      "15000/15000 [==============================] - 1s 89us/sample - loss: 0.2246 - accuracy: 0.9226 - val_loss: 0.3002 - val_accuracy: 0.8819\n",
      "Epoch 19/40\n",
      "15000/15000 [==============================] - 1s 91us/sample - loss: 0.2136 - accuracy: 0.9247 - val_loss: 0.2956 - val_accuracy: 0.8821\n",
      "Epoch 20/40\n",
      "15000/15000 [==============================] - 1s 91us/sample - loss: 0.2037 - accuracy: 0.9289 - val_loss: 0.2926 - val_accuracy: 0.8830\n",
      "Epoch 21/40\n",
      "15000/15000 [==============================] - 1s 96us/sample - loss: 0.1936 - accuracy: 0.9349 - val_loss: 0.2901 - val_accuracy: 0.8839\n",
      "Epoch 22/40\n",
      "15000/15000 [==============================] - 1s 92us/sample - loss: 0.1851 - accuracy: 0.9387 - val_loss: 0.2882 - val_accuracy: 0.8851\n",
      "Epoch 23/40\n",
      "15000/15000 [==============================] - 1s 92us/sample - loss: 0.1766 - accuracy: 0.9426 - val_loss: 0.2877 - val_accuracy: 0.8844\n",
      "Epoch 24/40\n",
      "15000/15000 [==============================] - 2s 109us/sample - loss: 0.1693 - accuracy: 0.9459 - val_loss: 0.2864 - val_accuracy: 0.8843\n",
      "Epoch 25/40\n",
      "15000/15000 [==============================] - 2s 110us/sample - loss: 0.1617 - accuracy: 0.9488 - val_loss: 0.2855 - val_accuracy: 0.8851\n",
      "Epoch 26/40\n",
      "15000/15000 [==============================] - 1s 91us/sample - loss: 0.1550 - accuracy: 0.9519 - val_loss: 0.2866 - val_accuracy: 0.8830\n",
      "Epoch 27/40\n",
      "15000/15000 [==============================] - 1s 85us/sample - loss: 0.1487 - accuracy: 0.9539 - val_loss: 0.2864 - val_accuracy: 0.8838\n",
      "Epoch 28/40\n",
      "15000/15000 [==============================] - 1s 93us/sample - loss: 0.1426 - accuracy: 0.9561 - val_loss: 0.2873 - val_accuracy: 0.8855\n",
      "Epoch 29/40\n",
      "15000/15000 [==============================] - 2s 113us/sample - loss: 0.1372 - accuracy: 0.9595 - val_loss: 0.2894 - val_accuracy: 0.8838\n",
      "Epoch 30/40\n",
      "15000/15000 [==============================] - 1s 99us/sample - loss: 0.1316 - accuracy: 0.9609 - val_loss: 0.2891 - val_accuracy: 0.8859\n",
      "Epoch 31/40\n",
      "15000/15000 [==============================] - 2s 102us/sample - loss: 0.1260 - accuracy: 0.9635 - val_loss: 0.2906 - val_accuracy: 0.8861\n",
      "Epoch 32/40\n",
      "15000/15000 [==============================] - 1s 95us/sample - loss: 0.1209 - accuracy: 0.9666 - val_loss: 0.2925 - val_accuracy: 0.8858\n",
      "Epoch 33/40\n",
      "15000/15000 [==============================] - 1s 94us/sample - loss: 0.1160 - accuracy: 0.9677 - val_loss: 0.2951 - val_accuracy: 0.8837\n",
      "Epoch 34/40\n",
      "15000/15000 [==============================] - 1s 94us/sample - loss: 0.1117 - accuracy: 0.9686 - val_loss: 0.2976 - val_accuracy: 0.8844\n",
      "Epoch 35/40\n",
      "15000/15000 [==============================] - 1s 94us/sample - loss: 0.1075 - accuracy: 0.9698 - val_loss: 0.3008 - val_accuracy: 0.8841\n",
      "Epoch 36/40\n",
      "15000/15000 [==============================] - 1s 100us/sample - loss: 0.1032 - accuracy: 0.9722 - val_loss: 0.3028 - val_accuracy: 0.8837\n",
      "Epoch 37/40\n",
      "15000/15000 [==============================] - 2s 102us/sample - loss: 0.0991 - accuracy: 0.9733 - val_loss: 0.3057 - val_accuracy: 0.8825\n",
      "Epoch 38/40\n",
      "15000/15000 [==============================] - 2s 106us/sample - loss: 0.0952 - accuracy: 0.9753 - val_loss: 0.3096 - val_accuracy: 0.8826\n",
      "Epoch 39/40\n",
      "15000/15000 [==============================] - 1s 95us/sample - loss: 0.0921 - accuracy: 0.9763 - val_loss: 0.3137 - val_accuracy: 0.8812\n",
      "Epoch 40/40\n",
      "15000/15000 [==============================] - 1s 95us/sample - loss: 0.0881 - accuracy: 0.9781 - val_loss: 0.3164 - val_accuracy: 0.8820\n"
     ]
    },
    {
     "ename": "NameError",
     "evalue": "name 'text_y' is not defined",
     "output_type": "error",
     "traceback": [
      "\u001b[1;31m---------------------------------------------------------------------------\u001b[0m",
      "\u001b[1;31mNameError\u001b[0m                                 Traceback (most recent call last)",
      "\u001b[1;32m<ipython-input-9-d84d62beb0f8>\u001b[0m in \u001b[0;36m<module>\u001b[1;34m\u001b[0m\n\u001b[0;32m     10\u001b[0m                    verbose=1)\n\u001b[0;32m     11\u001b[0m \u001b[1;33m\u001b[0m\u001b[0m\n\u001b[1;32m---> 12\u001b[1;33m \u001b[0mresult\u001b[0m \u001b[1;33m=\u001b[0m \u001b[0mmodel\u001b[0m\u001b[1;33m.\u001b[0m\u001b[0mevaluate\u001b[0m\u001b[1;33m(\u001b[0m\u001b[0mtest_x\u001b[0m\u001b[1;33m,\u001b[0m \u001b[0mtext_y\u001b[0m\u001b[1;33m)\u001b[0m\u001b[1;33m\u001b[0m\u001b[0m\n\u001b[0m",
      "\u001b[1;31mNameError\u001b[0m: name 'text_y' is not defined"
     ]
    }
   ],
   "source": [
    "x_val = train_x[:10000]\n",
    "x_train = train_x[10000:]\n",
    "\n",
    "y_val = train_y[:10000]\n",
    "y_train = train_y[10000:]\n",
    "\n",
    "history = model.fit(x_train,y_train,\n",
    "                   epochs=40, batch_size=512,\n",
    "                   validation_data=(x_val, y_val),\n",
    "                   verbose=1)\n",
    "\n",
    "result = model.evaluate(test_x, test_y)"
   ]
  },
  {
   "cell_type": "code",
   "execution_count": 10,
   "metadata": {},
   "outputs": [
    {
     "name": "stdout",
     "output_type": "stream",
     "text": [
      "25000/25000 [==============================] - 1s 40us/sample - loss: 0.3380 - accuracy: 0.8708\n"
     ]
    }
   ],
   "source": [
    "result = model.evaluate(test_x, test_y)"
   ]
  },
  {
   "cell_type": "code",
   "execution_count": null,
   "metadata": {},
   "outputs": [],
   "source": [
    "result"
   ]
  },
  {
   "cell_type": "code",
   "execution_count": 8,
   "metadata": {},
   "outputs": [],
   "source": [
    "LENGTH = 256"
   ]
  },
  {
   "cell_type": "code",
   "execution_count": null,
   "metadata": {},
   "outputs": [],
   "source": []
  }
 ],
 "metadata": {
  "kernelspec": {
   "display_name": "tensorflow2.0beta",
   "language": "python",
   "name": "tensorflow2.0beta"
  },
  "language_info": {
   "codemirror_mode": {
    "name": "ipython",
    "version": 3
   },
   "file_extension": ".py",
   "mimetype": "text/x-python",
   "name": "python",
   "nbconvert_exporter": "python",
   "pygments_lexer": "ipython3",
   "version": "3.6.2"
  }
 },
 "nbformat": 4,
 "nbformat_minor": 2
}
