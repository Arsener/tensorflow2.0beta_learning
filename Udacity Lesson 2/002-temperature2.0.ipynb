{
 "cells": [
  {
   "cell_type": "markdown",
   "metadata": {},
   "source": [
    "## 此样例是将摄氏度与华氏度进行转换，使用tensorflow2.0建立一个含有隐藏层的神经网络，隐藏层没有激活函数\n",
    "* 转换公式：\n",
    "> f = c * 1.8 + 32"
   ]
  },
  {
   "cell_type": "code",
   "execution_count": 15,
   "metadata": {},
   "outputs": [],
   "source": [
    "import tensorflow as tf\n",
    "import numpy as np"
   ]
  },
  {
   "cell_type": "markdown",
   "metadata": {},
   "source": [
    "给定数据"
   ]
  },
  {
   "cell_type": "code",
   "execution_count": 16,
   "metadata": {},
   "outputs": [],
   "source": [
    "celsius_q    = np.array([-40, -10,  0,  8, 15, 22,  38],  dtype=float)\n",
    "fahrenheit_a = np.array([-40,  14, 32, 46, 59, 72, 100],  dtype=float)"
   ]
  },
  {
   "cell_type": "markdown",
   "metadata": {},
   "source": [
    "## 创建模型\n",
    "创建一个多层的模型，此模型有两个隐藏层（使用多个不带激活函数的隐藏层等效于不适用隐藏层）\n",
    "### 建立三层神经元\n",
    "使用``tf.keras.layers.Dense``建立网络层，此方法的两个参数为：\n",
    "* ``input_shape=[1]`` 表示此层输入的维度。\n",
    "* ``units=1`` 表示此层中神经元的数量，应该与下一层的``input_shape``相同"
   ]
  },
  {
   "cell_type": "code",
   "execution_count": 35,
   "metadata": {},
   "outputs": [],
   "source": [
    "l0 = tf.keras.layers.Dense(units=4, input_shape=[1])\n",
    "l1 = tf.keras.layers.Dense(units=4)\n",
    "l2 = tf.keras.layers.Dense(units=1)"
   ]
  },
  {
   "cell_type": "markdown",
   "metadata": {},
   "source": [
    "### 将层集成（堆叠）到模型Model中\n",
    "将定义好的不同层依次加入``tf.keras.Sequential``中"
   ]
  },
  {
   "cell_type": "code",
   "execution_count": 36,
   "metadata": {},
   "outputs": [],
   "source": [
    "model = tf.keras.Sequential([l0, l1, l2])"
   ]
  },
  {
   "cell_type": "markdown",
   "metadata": {},
   "source": [
    "也可以先建立``tf.keras.Sequential``，再将``layers``加入到``Sequential``中"
   ]
  },
  {
   "cell_type": "code",
   "execution_count": 30,
   "metadata": {},
   "outputs": [],
   "source": [
    "# model = tf.keras.Sequential()\n",
    "# model.add(tf.keras.layers.Dense(units=1, input_shape=[1]))\n",
    "# model.add(tf.keras.layers.Dense(units=4))\n",
    "# model.add(tf.keras.layers.Dense(units=1))"
   ]
  },
  {
   "cell_type": "markdown",
   "metadata": {},
   "source": [
    "### 使用loss以及optimizer编译模型\n",
    "使用``model.complie``进行编译，传入``loss``以及``oprimizer``参数"
   ]
  },
  {
   "cell_type": "code",
   "execution_count": 37,
   "metadata": {},
   "outputs": [],
   "source": [
    "model.compile(loss='mean_squared_error',\n",
    "             optimizer=tf.keras.optimizers.Adam(0.1))"
   ]
  },
  {
   "cell_type": "markdown",
   "metadata": {},
   "source": [
    "### 训练模型\n",
    "使用``model.fit``训练模型\n",
    "第一个参数是输入，第二个参数是想要得到的输出，``epochs``参数表示要进行多少次训练，``verbose``参数控制输出"
   ]
  },
  {
   "cell_type": "code",
   "execution_count": 38,
   "metadata": {},
   "outputs": [
    {
     "name": "stdout",
     "output_type": "stream",
     "text": [
      "Finished training the model\n"
     ]
    }
   ],
   "source": [
    "history = model.fit(celsius_q, fahrenheit_a, epochs=500, verbose=False)\n",
    "print('Finished training the model')"
   ]
  },
  {
   "cell_type": "markdown",
   "metadata": {},
   "source": [
    "``model.fit``返回的是一个``tensorflow.python.keras.callbacks.History``对象，我们可以用这个对象得到每训练一个epoch后loss的变化情况"
   ]
  },
  {
   "cell_type": "code",
   "execution_count": 33,
   "metadata": {},
   "outputs": [
    {
     "data": {
      "text/plain": [
       "tensorflow.python.keras.callbacks.History"
      ]
     },
     "execution_count": 33,
     "metadata": {},
     "output_type": "execute_result"
    }
   ],
   "source": [
    "type(history)"
   ]
  },
  {
   "cell_type": "code",
   "execution_count": 39,
   "metadata": {},
   "outputs": [
    {
     "data": {
      "image/png": "[encoded data removed]",
      "text/plain": [
       "<Figure size 432x288 with 1 Axes>"
      ]
     },
     "metadata": {
      "needs_background": "light"
     },
     "output_type": "display_data"
    }
   ],
   "source": [
    "import matplotlib.pyplot as plt\n",
    "plt.xlabel('Epoch Number')\n",
    "plt.ylabel(\"Loss Magnitude\")\n",
    "plt.plot(history.history['loss'])\n",
    "plt.show()"
   ]
  },
  {
   "cell_type": "markdown",
   "metadata": {},
   "source": [
    "## 使用模型进行预测\n",
    "使用``model.predict``进行预测，由于网络的输入维度是1，因此输入的数组的维度应该是(?, 1)"
   ]
  },
  {
   "cell_type": "code",
   "execution_count": 21,
   "metadata": {},
   "outputs": [
    {
     "name": "stdout",
     "output_type": "stream",
     "text": [
      "[[211.7474 ]\n",
      " [301.64484]\n",
      " [391.5423 ]]\n"
     ]
    }
   ],
   "source": [
    "x_pre = np.array([100, 150, 200]).reshape(3, 1)\n",
    "print(model.predict(x_pre))"
   ]
  },
  {
   "cell_type": "markdown",
   "metadata": {},
   "source": [
    "## 查看不同层参数"
   ]
  },
  {
   "cell_type": "code",
   "execution_count": 22,
   "metadata": {},
   "outputs": [
    {
     "name": "stdout",
     "output_type": "stream",
     "text": [
      "These are the layer variables: [array([[0.44166887, 0.74088794, 0.18476322, 0.17058235]], dtype=float32), array([ 3.6649573,  3.948055 , -2.942927 ,  2.998963 ], dtype=float32)]\n"
     ]
    }
   ],
   "source": [
    "print('These are the layer variables: {}'.format(l0.get_weights()))"
   ]
  },
  {
   "cell_type": "code",
   "execution_count": 23,
   "metadata": {},
   "outputs": [
    {
     "name": "stdout",
     "output_type": "stream",
     "text": [
      "These are the layer variables: [array([[-0.54540294,  0.13718396,  0.72851074, -0.6015388 ],\n",
      "       [-0.24728823,  0.29627135,  0.22430244, -1.1130002 ],\n",
      "       [ 0.25203848, -1.7068754 , -0.36372513,  0.29913244],\n",
      "       [ 0.34799173, -0.54695594,  1.1112198 , -1.3071889 ]],\n",
      "      dtype=float32), array([-0.36598516,  2.3215256 ,  2.6916187 , -3.8060253 ], dtype=float32)]\n"
     ]
    }
   ],
   "source": [
    "print('These are the layer variables: {}'.format(l1.get_weights()))"
   ]
  },
  {
   "cell_type": "code",
   "execution_count": 24,
   "metadata": {},
   "outputs": [
    {
     "name": "stdout",
     "output_type": "stream",
     "text": [
      "These are the layer variables: [array([[-0.13943616],\n",
      "       [ 0.5231781 ],\n",
      "       [ 0.6051605 ],\n",
      "       [-1.1538324 ]], dtype=float32), array([3.67987], dtype=float32)]\n"
     ]
    }
   ],
   "source": [
    "print('These are the layer variables: {}'.format(l2.get_weights()))"
   ]
  },
  {
   "cell_type": "code",
   "execution_count": null,
   "metadata": {},
   "outputs": [],
   "source": []
  }
 ],
 "metadata": {
  "kernelspec": {
   "display_name": "tensorflow2.0beta",
   "language": "python",
   "name": "tensorflow2.0beta"
  },
  "language_info": {
   "codemirror_mode": {
    "name": "ipython",
    "version": 3
   },
   "file_extension": ".py",
   "mimetype": "text/x-python",
   "name": "python",
   "nbconvert_exporter": "python",
   "pygments_lexer": "ipython3",
   "version": "3.6.2"
  }
 },
 "nbformat": 4,
 "nbformat_minor": 2
}
