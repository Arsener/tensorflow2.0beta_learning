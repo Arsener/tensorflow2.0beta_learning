{
 "cells": [
  {
   "cell_type": "markdown",
   "metadata": {},
   "source": [
    "## 由于在线加载模型无法成功，因此通过将url改变为下载模型的url，将模型下载到本地，本地加载"
   ]
  },
  {
   "cell_type": "code",
   "execution_count": 4,
   "metadata": {
    "scrolled": true
   },
   "outputs": [
    {
     "name": "stdout",
     "output_type": "stream",
     "text": [
      "https://storage.googleapis.com/tfhub-modules/google/tf2-preview/mobilenet_v2/feature_vector/2.tar.gz\n"
     ]
    }
   ],
   "source": [
    "url = 'https://tfhub.dev/google/tf2-preview/mobilenet_v2/feature_vector/2'\n",
    "print(url.replace('tfhub.dev', 'storage.googleapis.com/tfhub-modules')+'.tar.gz')"
   ]
  }
 ],
 "metadata": {
  "kernelspec": {
   "display_name": "tensorflow2.0beta",
   "language": "python",
   "name": "tensorflow2.0beta"
  },
  "language_info": {
   "codemirror_mode": {
    "name": "ipython",
    "version": 3
   },
   "file_extension": ".py",
   "mimetype": "text/x-python",
   "name": "python",
   "nbconvert_exporter": "python",
   "pygments_lexer": "ipython3",
   "version": "3.6.2"
  }
 },
 "nbformat": 4,
 "nbformat_minor": 2
}
