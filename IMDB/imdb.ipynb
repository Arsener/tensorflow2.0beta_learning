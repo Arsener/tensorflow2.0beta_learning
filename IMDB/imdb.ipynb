{
 "cells": [
  {
   "cell_type": "markdown",
   "metadata": {},
   "source": [
    "## 对IMDB数据集进行文本分类\n",
    "**IMDB**数据集包含来自互联网的50000条严重两极分化的评论，分文训练集和测试集，各25000条，在训练集和测试集中正面评价和负面评价各占50%。数据已经过预处理，每一个单词被一个整数替代，这个整数表示这个单词出现频率的次序。如单词the对应的数字是1，表示此单词出现频率最高。\n",
    "\n",
    "### 输入\n",
    "整数序列，代表一条评论。\n",
    "### 输出\n",
    "此评论是正面/负面评论（二分类问题）。"
   ]
  },
  {
   "cell_type": "code",
   "execution_count": 1,
   "metadata": {},
   "outputs": [],
   "source": [
    "import tensorflow as tf\n",
    "import numpy as np\n",
    "import matplotlib.pyplot as plt"
   ]
  },
  {
   "cell_type": "markdown",
   "metadata": {},
   "source": [
    "## 载入数据\n",
    "首先从[这里](https://storage.googleapis.com/tensorflow/tf-keras-datasets/imdb.npz)将数据下载到本地，之后从本地导入数据。\n",
    "* **``num_words``**: max number of words to include. Words are ranked by how often they occur (in the training set) and only the most frequent words are kept."
   ]
  },
  {
   "cell_type": "code",
   "execution_count": 2,
   "metadata": {},
   "outputs": [
    {
     "data": {
      "text/plain": [
       "((25000,), (25000,), (25000,), (25000,))"
      ]
     },
     "execution_count": 2,
     "metadata": {},
     "output_type": "execute_result"
    }
   ],
   "source": [
    "PATH = 'C:\\\\Users\\\\arsener\\\\PycharmProjects\\\\tensorflow2.0beta\\\\zhihu\\\\data\\\\'\n",
    "\n",
    "VOCAB_SIZE = 10000\n",
    "(train_x, train_y), (test_x, test_y) = tf.keras.datasets.imdb.load_data(path=PATH + 'imdb.npz', num_words=VOCAB_SIZE)\n",
    "train_x.shape, train_y.shape, test_x.shape, test_y.shape"
   ]
  },
  {
   "cell_type": "markdown",
   "metadata": {},
   "source": [
    "再将数据集中[单词的字典](https://storage.googleapis.com/tensorflow/tf-keras-datasets/imdb_word_index.json)下载到本地，创建id和词的匹配字典，并加入一些特殊单词，如``<PAD>``、``<START>``等。再把从单词到数字的转换变为从数字到词的转换，以方便查看每个样例对应的句子。"
   ]
  },
  {
   "cell_type": "code",
   "execution_count": 3,
   "metadata": {},
   "outputs": [],
   "source": [
    "word_index = tf.keras.datasets.imdb.get_word_index(path=PATH + 'imdb_word_index.json')\n",
    "\n",
    "word2id = {k:(v + 3) for k, v in word_index.items()}\n",
    "word2id['<PAD>'] = 0\n",
    "word2id['<START>'] = 1\n",
    "word2id['<UNK>'] = 2\n",
    "word2id['<UNUSED>'] = 3\n",
    "\n",
    "id2word = {v:k for k, v in word2id.items()}"
   ]
  },
  {
   "cell_type": "markdown",
   "metadata": {},
   "source": [
    "查看某个样例对应的评论内容"
   ]
  },
  {
   "cell_type": "code",
   "execution_count": 4,
   "metadata": {},
   "outputs": [
    {
     "name": "stdout",
     "output_type": "stream",
     "text": [
      "<START> this film was just brilliant casting location scenery story direction everyone's really suited the part they played and you could just imagine being there robert <UNK> is an amazing actor and now the same being director <UNK> father came from the same scottish island as myself so i loved the fact there was a real connection with this film the witty remarks throughout the film were great it was just brilliant so much that i bought the film as soon as it was released for <UNK> and would recommend it to everyone to watch and the fly fishing was amazing really cried at the end it was so sad and you know what they say if you cry at a film it must have been good and this definitely was also <UNK> to the two little boy's that played the <UNK> of norman and paul they were just brilliant children are often left out of the <UNK> list i think because the stars that play them all grown up are such a big profile for the whole film but these children are amazing and should be praised for what they have done don't you think the whole story was so lovely because it was true and was someone's life after all that was shared with us all\n"
     ]
    }
   ],
   "source": [
    "\n",
    "def get_words(sent_ids):\n",
    "    return ' '.join([id2word.get(i, '?') for i in sent_ids])\n",
    "\n",
    "sent = get_words(train_x[0])\n",
    "print(sent)"
   ]
  },
  {
   "cell_type": "markdown",
   "metadata": {},
   "source": [
    "## 对句子进行填充\n",
    "使用``tf.keras.preprocessing.pad_sequences()``方法在句子末尾填充``<PAD>``词，填充后长度为256。长于256的句子将只保留前256个词。``tf.keras.preprocessing.pad_sequences()``方法的参数为：\n",
    "* **sequences**: List of lists, where each element is a sequence.\n",
    "* **maxlen**: Int, maximum length of all sequences.\n",
    "* **dtype**: Type of the output sequences. To pad sequences with variable length strings, you can use `object`.\n",
    "* **padding**: String, ``'pre'`` or ``'post'``: pad either before or after each sequence.\n",
    "* **truncating**: String, ``'pre'`` or ``'post'``: remove values from sequences larger than `maxlen`, either at the beginning or at the end of the sequences.\n",
    "* **value**: Float or String, padding value."
   ]
  },
  {
   "cell_type": "code",
   "execution_count": 5,
   "metadata": {},
   "outputs": [
    {
     "name": "stdout",
     "output_type": "stream",
     "text": [
      "[   1   14   22   16   43  530  973 1622 1385   65  458 4468   66 3941\n",
      "    4  173   36  256    5   25  100   43  838  112   50  670    2    9\n",
      "   35  480  284    5  150    4  172  112  167    2  336  385   39    4\n",
      "  172 4536 1111   17  546   38   13  447    4  192   50   16    6  147\n",
      " 2025   19   14   22    4 1920 4613  469    4   22   71   87   12   16\n",
      "   43  530   38   76   15   13 1247    4   22   17  515   17   12   16\n",
      "  626   18    2    5   62  386   12    8  316    8  106    5    4 2223\n",
      " 5244   16  480   66 3785   33    4  130   12   16   38  619    5   25\n",
      "  124   51   36  135   48   25 1415   33    6   22   12  215   28   77\n",
      "   52    5   14  407   16   82    2    8    4  107  117 5952   15  256\n",
      "    4    2    7 3766    5  723   36   71   43  530  476   26  400  317\n",
      "   46    7    4    2 1029   13  104   88    4  381   15  297   98   32\n",
      " 2071   56   26  141    6  194 7486   18    4  226   22   21  134  476\n",
      "   26  480    5  144   30 5535   18   51   36   28  224   92   25  104\n",
      "    4  226   65   16   38 1334   88   12   16  283    5   16 4472  113\n",
      "  103   32   15   16 5345   19  178   32    0    0    0    0    0    0\n",
      "    0    0    0    0    0    0    0    0    0    0    0    0    0    0\n",
      "    0    0    0    0    0    0    0    0    0    0    0    0    0    0\n",
      "    0    0    0    0]\n",
      "len:  256 256\n"
     ]
    }
   ],
   "source": [
    "# 句子末尾padding\n",
    "LENGTH = 256\n",
    "\n",
    "train_x = tf.keras.preprocessing.sequence.pad_sequences(\n",
    "    train_x,\n",
    "    value=word2id['<PAD>'],\n",
    "    padding='post', \n",
    "    maxlen=LENGTH,\n",
    "    truncating='post'\n",
    ")\n",
    "test_x = tf.keras.preprocessing.sequence.pad_sequences(\n",
    "    test_x,\n",
    "    value=word2id['<PAD>'],\n",
    "    padding='post', \n",
    "    maxlen=LENGTH,\n",
    "    truncating='post'\n",
    ")\n",
    "print(train_x[0])\n",
    "print('len: ',len(train_x[0]), len(train_x[1]))"
   ]
  },
  {
   "cell_type": "markdown",
   "metadata": {},
   "source": [
    "## 将训练集进一步划分为训练集和验证集"
   ]
  },
  {
   "cell_type": "code",
   "execution_count": 6,
   "metadata": {},
   "outputs": [],
   "source": [
    "TRAIN_NUM = train_x.shape[0]\n",
    "\n",
    "gap = int(0.8 * TRAIN_NUM)\n",
    "\n",
    "x_train = train_x[:gap]\n",
    "x_val = train_x[gap:]\n",
    "\n",
    "y_train = train_y[:gap]\n",
    "y_val = train_y[gap:]\n",
    "\n",
    "train_dataset = tf.data.Dataset.from_tensor_slices((x_train, y_train))\n",
    "val_dataset = tf.data.Dataset.from_tensor_slices((x_val, y_val))\n",
    "test_dataset = tf.data.Dataset.from_tensor_slices((test_x, test_y))\n",
    "\n",
    "BATCH_SIZE = 128\n",
    "train_dataset = train_dataset.repeat().shuffle(gap).batch(BATCH_SIZE)\n",
    "val_dataset = val_dataset.batch(BATCH_SIZE)\n",
    "test_dataset = test_dataset.batch(BATCH_SIZE)"
   ]
  },
  {
   "cell_type": "markdown",
   "metadata": {},
   "source": [
    "## 构建模型\n",
    "首先使用``Embedding``层，将每个单词对应的数字转换成词向量，向量维度为16。``tf.keras.layers.Embedding()``层的参数为：\n",
    "```python\n",
    "__init__(\n",
    "    input_dim,\n",
    "    output_dim,\n",
    "    embeddings_initializer='uniform',\n",
    "    embeddings_regularizer=None,\n",
    "    activity_regularizer=None,\n",
    "    embeddings_constraint=None,\n",
    "    mask_zero=False,\n",
    "    input_length=None,\n",
    "    **kwargs\n",
    ")\n",
    "```\n",
    "* **input_dim**: int > 0. Size of the vocabulary, i.e. maximum integer index + 1.\n",
    "* **output_dim**: int >= 0. Dimension of the dense embedding.\n",
    "* **input_length**: Length of input sequences, when it is constant. This argument is required if you are going to connect ``Flatten`` then ``Dense`` layers upstream (without it, the shape of the dense outputs cannot be computed).\n",
    "\n",
    "简单理解：**input_dim**参数表示词的总数。之前选定前10000个词，再加上添加的4个词，一共10004个。**output_dim**表示将数字转换成向量的维度。这里的``Embedding``层就是将这10004个词转换成10004个16位向量。**input_length**参数表示么个句子的长度，如果``Embedding``层后面跟着``Flattern``层或者``Dense``层，则必须指明此参数。\n",
    "\n",
    "其他参数介绍见[API](https://tensorflow.google.cn/versions/r2.0/api_docs/python/tf/keras/layers/Embedding)。\n",
    "\n",
    "此模型第二层为``tf.keras.layers.GlobalAveragePooling1D()``，表示全局一维平均池化。这一层也可以换为``Flattern``层，然而``Flattern``层会导致与下一层之间的参数变多，最后的训练准确率会比使用池化层低1%。"
   ]
  },
  {
   "cell_type": "code",
   "execution_count": 7,
   "metadata": {},
   "outputs": [
    {
     "name": "stdout",
     "output_type": "stream",
     "text": [
      "Model: \"sequential\"\n",
      "_________________________________________________________________\n",
      "Layer (type)                 Output Shape              Param #   \n",
      "=================================================================\n",
      "embedding (Embedding)        (None, 256, 16)           160064    \n",
      "_________________________________________________________________\n",
      "global_average_pooling1d (Gl (None, 16)                0         \n",
      "_________________________________________________________________\n",
      "dense (Dense)                (None, 16)                272       \n",
      "_________________________________________________________________\n",
      "dense_1 (Dense)              (None, 1)                 17        \n",
      "=================================================================\n",
      "Total params: 160,353\n",
      "Trainable params: 160,353\n",
      "Non-trainable params: 0\n",
      "_________________________________________________________________\n"
     ]
    }
   ],
   "source": [
    "model = tf.keras.Sequential([\n",
    "    tf.keras.layers.Embedding(VOCAB_SIZE + 4, 16, input_length=LENGTH),\n",
    "    tf.keras.layers.GlobalAveragePooling1D(),\n",
    "    tf.keras.layers.Dense(16, activation='relu'),\n",
    "    tf.keras.layers.Dense(1, activation='sigmoid')\n",
    "])\n",
    "\n",
    "model.summary()\n",
    "model.compile(optimizer='adam',\n",
    "             loss='binary_crossentropy',\n",
    "             metrics=['accuracy'])"
   ]
  },
  {
   "cell_type": "markdown",
   "metadata": {},
   "source": [
    "## 训练模型"
   ]
  },
  {
   "cell_type": "code",
   "execution_count": 8,
   "metadata": {},
   "outputs": [
    {
     "name": "stderr",
     "output_type": "stream",
     "text": [
      "WARNING: Logging before flag parsing goes to stderr.\n",
      "W0729 10:33:35.594398  5436 deprecation.py:323] From C:\\Users\\arsener\\PycharmProjects\\tensorflow2.0beta\\venv\\lib\\site-packages\\tensorflow\\python\\ops\\math_grad.py:1250: add_dispatch_support.<locals>.wrapper (from tensorflow.python.ops.array_ops) is deprecated and will be removed in a future version.\n",
      "Instructions for updating:\n",
      "Use tf.where in 2.0, which has the same broadcast rule as np.where\n"
     ]
    },
    {
     "name": "stdout",
     "output_type": "stream",
     "text": [
      "Epoch 1/20\n",
      "157/157 [==============================] - 3s 21ms/step - loss: 0.6756 - accuracy: 0.6985 - val_loss: 0.6295 - val_accuracy: 0.7792\n",
      "Epoch 2/20\n",
      "157/157 [==============================] - 2s 16ms/step - loss: 0.5318 - accuracy: 0.8105 - val_loss: 0.4458 - val_accuracy: 0.8416\n",
      "Epoch 3/20\n",
      "157/157 [==============================] - 2s 16ms/step - loss: 0.3652 - accuracy: 0.8750 - val_loss: 0.3496 - val_accuracy: 0.8644\n",
      "Epoch 4/20\n",
      "157/157 [==============================] - 2s 16ms/step - loss: 0.2938 - accuracy: 0.8914 - val_loss: 0.3135 - val_accuracy: 0.8756\n",
      "Epoch 5/20\n",
      "157/157 [==============================] - 2s 16ms/step - loss: 0.2551 - accuracy: 0.9034 - val_loss: 0.2997 - val_accuracy: 0.8786\n",
      "Epoch 6/20\n",
      "157/157 [==============================] - 3s 16ms/step - loss: 0.2211 - accuracy: 0.9185 - val_loss: 0.2944 - val_accuracy: 0.8840\n",
      "Epoch 7/20\n",
      "157/157 [==============================] - 2s 16ms/step - loss: 0.1976 - accuracy: 0.9276 - val_loss: 0.2939 - val_accuracy: 0.8836\n",
      "Epoch 00007: early stopping\n"
     ]
    }
   ],
   "source": [
    "callbacks = [\n",
    "    tf.keras.callbacks.EarlyStopping(\n",
    "        # 是否有提升关注的指标\n",
    "        monitor='val_accuracy',\n",
    "        # 不再提升的阈值\n",
    "        min_delta=1e-2,\n",
    "        # 2个epoch没有提升就停止\n",
    "        patience=3,\n",
    "        verbose=1\n",
    "    )\n",
    "]\n",
    "\n",
    "history = model.fit(train_dataset,\n",
    "                   epochs=20,\n",
    "                   steps_per_epoch=int(np.ceil(gap / float(BATCH_SIZE))),\n",
    "                   validation_data=val_dataset,\n",
    "                   validation_steps=int(np.ceil((TRAIN_NUM - gap) / float(BATCH_SIZE))),\n",
    "                   callbacks=callbacks,\n",
    "                   verbose=1)"
   ]
  },
  {
   "cell_type": "markdown",
   "metadata": {},
   "source": [
    "## 观察训练结果"
   ]
  },
  {
   "cell_type": "code",
   "execution_count": 9,
   "metadata": {},
   "outputs": [
    {
     "data": {
      "image/png": "[encoded data removed]",
      "text/plain": [
       "<Figure size 576x216 with 2 Axes>"
      ]
     },
     "metadata": {
      "needs_background": "light"
     },
     "output_type": "display_data"
    }
   ],
   "source": [
    "acc = history.history['accuracy']\n",
    "val_acc = history.history['val_accuracy']\n",
    "\n",
    "loss = history.history['loss']\n",
    "val_loss = history.history['val_loss']\n",
    "\n",
    "epochs_range = range(len(acc))\n",
    "\n",
    "plt.figure(figsize=(8, 3))\n",
    "plt.subplot(1, 2, 1)\n",
    "plt.plot(epochs_range, acc, label='Training Accuracy')\n",
    "plt.plot(epochs_range, val_acc, label='Validation Accuracy')\n",
    "plt.legend(loc='lower right')\n",
    "plt.title('Training and Validation Accuracy')\n",
    "\n",
    "plt.subplot(1, 2, 2)\n",
    "plt.plot(epochs_range, loss, label='Training Loss')\n",
    "plt.plot(epochs_range, val_loss, label='Validation Loss')\n",
    "plt.legend(loc='upper right')\n",
    "plt.title('Training and Validation Loss')\n",
    "plt.show()"
   ]
  },
  {
   "cell_type": "code",
   "execution_count": 10,
   "metadata": {},
   "outputs": [
    {
     "name": "stdout",
     "output_type": "stream",
     "text": [
      "25000/25000 [==============================] - 1s 37us/sample - loss: 0.3158 - accuracy: 0.8692\n"
     ]
    }
   ],
   "source": [
    "result = model.evaluate(test_x, test_y)"
   ]
  },
  {
   "cell_type": "code",
   "execution_count": null,
   "metadata": {},
   "outputs": [],
   "source": []
  }
 ],
 "metadata": {
  "kernelspec": {
   "display_name": "Python 3",
   "language": "python",
   "name": "python3"
  },
  "language_info": {
   "codemirror_mode": {
    "name": "ipython",
    "version": 3
   },
   "file_extension": ".py",
   "mimetype": "text/x-python",
   "name": "python",
   "nbconvert_exporter": "python",
   "pygments_lexer": "ipython3",
   "version": "3.6.8"
  }
 },
 "nbformat": 4,
 "nbformat_minor": 2
}
